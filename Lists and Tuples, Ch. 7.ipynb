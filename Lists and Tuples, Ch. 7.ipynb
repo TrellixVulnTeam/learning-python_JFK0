{
 "cells": [
  {
   "cell_type": "markdown",
   "metadata": {},
   "source": [
    "# Lists and Tuples, Ch. 7"
   ]
  },
  {
   "cell_type": "markdown",
   "metadata": {},
   "source": [
    "### 1."
   ]
  },
  {
   "cell_type": "code",
   "execution_count": null,
   "metadata": {
    "scrolled": true
   },
   "outputs": [
    {
     "name": "stdout",
     "output_type": "stream",
     "text": [
      "User will be player 2\n",
      "Player 1 score: 0\n",
      "Player 2 score: 0\n",
      "It is player 1's turn\n",
      "\tRoll: 4\n",
      "\tRoll: 1\n",
      "Turn total: 0\n",
      "Player 1 score: 0\n",
      "Player 2 score: 0\n",
      "It is player 2's turn\n",
      "\tRoll: 3\n"
     ]
    }
   ],
   "source": [
    "import random as rd\n",
    "rd.seed(0)\n",
    "\n",
    "currentplayer = 0\n",
    "human = rd.randint(0, 1)\n",
    "score = [0, 0]\n",
    "print(f\"User will be player {human+1}\")\n",
    "while score[0] < 100 and score[1] < 100:\n",
    "    turntotal = 0\n",
    "    roll = 0\n",
    "    print(\"Player 1 score:\", score[0])\n",
    "    print(\"Player 2 score:\", score[1])\n",
    "    print(f\"It is player {currentplayer+1}'s turn\")\n",
    "    if currentplayer == human:\n",
    "        rollinput = \"\"\n",
    "        while rollinput == \"\" and roll != 1:\n",
    "            roll = rd.randint(1, 6)\n",
    "            print(\"\\tRoll: \" + str(roll))\n",
    "            if roll == 1:\n",
    "                #print(\"pig!\")\n",
    "                turntotal = 0 \n",
    "            else:\n",
    "                turntotal += roll\n",
    "                rollinput = input(\"Enter nothing to roll, enter anything to hold.\")\n",
    "            print(\"Turn total:\", turntotal)\n",
    "    else:\n",
    "        while roll != 1 and turntotal < 20 and (turntotal + score[0]) < 100 and (turntotal + score[1]) < 100:\n",
    "            roll = rd.randint(1, 6)\n",
    "            print(\"\\tRoll: \" + str(roll))\n",
    "            if roll == 1:\n",
    "                #print(\"pig!\")\n",
    "                turntotal = 0\n",
    "            else:\n",
    "                turntotal += roll\n",
    "        print(\"Turn total:\", turntotal)\n",
    "    score[currentplayer] += turntotal\n",
    "    currentplayer = 1 - currentplayer\n",
    "print(\"Player 1 score:\", score[0])\n",
    "print(\"Player 2 score:\", score[1])\n",
    "print(f\"Player {2 - currentplayer} has won\")"
   ]
  },
  {
   "cell_type": "code",
   "execution_count": null,
   "metadata": {},
   "outputs": [],
   "source": []
  },
  {
   "cell_type": "code",
   "execution_count": null,
   "metadata": {},
   "outputs": [],
   "source": []
  }
 ],
 "metadata": {
  "kernelspec": {
   "display_name": "Python 3",
   "language": "python",
   "name": "python3"
  },
  "language_info": {
   "codemirror_mode": {
    "name": "ipython",
    "version": 3
   },
   "file_extension": ".py",
   "mimetype": "text/x-python",
   "name": "python",
   "nbconvert_exporter": "python",
   "pygments_lexer": "ipython3",
   "version": "3.8.2"
  }
 },
 "nbformat": 4,
 "nbformat_minor": 4
}
