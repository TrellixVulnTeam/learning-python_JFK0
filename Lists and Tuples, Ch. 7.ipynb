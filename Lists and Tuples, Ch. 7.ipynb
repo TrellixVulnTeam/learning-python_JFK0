{
 "cells": [
  {
   "cell_type": "markdown",
   "metadata": {},
   "source": [
    "# Lists and Tuples, Ch. 7"
   ]
  },
  {
   "cell_type": "markdown",
   "metadata": {},
   "source": [
    "### 1."
   ]
  },
  {
   "cell_type": "code",
   "execution_count": null,
   "metadata": {
    "scrolled": true
   },
   "outputs": [
    {
     "name": "stdout",
     "output_type": "stream",
     "text": [
      "User will be player 2\n",
      "Player 1 score: 0\n",
      "Player 2 score: 0\n",
      "It is player 1's turn\n",
      "\tRoll: 4\n",
      "\tRoll: 1\n",
      "Turn total: 0\n",
      "Player 1 score: 0\n",
      "Player 2 score: 0\n",
      "It is player 2's turn\n",
      "\tRoll: 3\n"
     ]
    }
   ],
   "source": [
    "import random as rd\n",
    "rd.seed(0)\n",
    "\n",
    "currentplayer = 0\n",
    "human = rd.randint(0, 1)\n",
    "score = [0, 0]\n",
    "print(f\"User will be player {human+1}\")\n",
    "while score[0] < 100 and score[1] < 100:\n",
    "    turntotal = 0\n",
    "    roll = 0\n",
    "    print(\"Player 1 score:\", score[0])\n",
    "    print(\"Player 2 score:\", score[1])\n",
    "    print(f\"It is player {currentplayer+1}'s turn\")\n",
    "    if currentplayer == human:\n",
    "        rollinput = \"\"\n",
    "        while rollinput == \"\" and roll != 1:\n",
    "            roll = rd.randint(1, 6)\n",
    "            print(\"\\tRoll: \" + str(roll))\n",
    "            if roll == 1:\n",
    "                #print(\"pig!\")\n",
    "                turntotal = 0 \n",
    "            else:\n",
    "                turntotal += roll\n",
    "                rollinput = input(\"Enter nothing to roll, enter anything to hold.\")\n",
    "            print(\"Turn total:\", turntotal)\n",
    "    else:\n",
    "        while roll != 1 and turntotal < 20 and (turntotal + score[0]) < 100 and (turntotal + score[1]) < 100:\n",
    "            roll = rd.randint(1, 6)\n",
    "            print(\"\\tRoll: \" + str(roll))\n",
    "            if roll == 1:\n",
    "                #print(\"pig!\")\n",
    "                turntotal = 0\n",
    "            else:\n",
    "                turntotal += roll\n",
    "        print(\"Turn total:\", turntotal)\n",
    "    score[currentplayer] += turntotal\n",
    "    currentplayer = 1 - currentplayer\n",
    "print(\"Player 1 score:\", score[0])\n",
    "print(\"Player 2 score:\", score[1])\n",
    "print(f\"Player {2 - currentplayer} has won\")"
   ]
  },
  {
   "cell_type": "markdown",
   "metadata": {},
   "source": [
    "### 2."
   ]
  },
  {
   "cell_type": "code",
   "execution_count": null,
   "metadata": {},
   "outputs": [],
   "source": []
  },
  {
   "cell_type": "markdown",
   "metadata": {},
   "source": [
    "### 3."
   ]
  },
  {
   "cell_type": "code",
   "execution_count": 13,
   "metadata": {},
   "outputs": [
    {
     "name": "stdout",
     "output_type": "stream",
     "text": [
      "Enter the number of rows and columns separated by a space: 7 7\n",
      "# # # # # # # \n",
      "# # # # # # # \n",
      "# # # # # # # \n",
      "# # # # # # # \n",
      "# # # # # # # \n",
      "# # # # # # # \n",
      "# # # # # # # \n",
      "Enter rows and colums to chop: 6 5\n"
     ]
    },
    {
     "ename": "IndexError",
     "evalue": "list index out of range",
     "output_type": "error",
     "traceback": [
      "\u001b[1;31m---------------------------------------------------------------------------\u001b[0m",
      "\u001b[1;31mIndexError\u001b[0m                                Traceback (most recent call last)",
      "\u001b[1;32m<ipython-input-13-91a12447313b>\u001b[0m in \u001b[0;36m<module>\u001b[1;34m\u001b[0m\n\u001b[0;32m     19\u001b[0m \u001b[1;33m\u001b[0m\u001b[0m\n\u001b[0;32m     20\u001b[0m     \u001b[1;32mwhile\u001b[0m \u001b[0mchompcol\u001b[0m \u001b[1;33m<\u001b[0m \u001b[0mnumrows\u001b[0m\u001b[1;33m:\u001b[0m\u001b[1;33m\u001b[0m\u001b[1;33m\u001b[0m\u001b[0m\n\u001b[1;32m---> 21\u001b[1;33m         \u001b[0mgameplay\u001b[0m\u001b[1;33m[\u001b[0m\u001b[0mchomprow\u001b[0m\u001b[1;33m]\u001b[0m \u001b[1;33m=\u001b[0m \u001b[0mmin\u001b[0m\u001b[1;33m(\u001b[0m\u001b[0mchompcol\u001b[0m\u001b[1;33m,\u001b[0m \u001b[0mgameplay\u001b[0m\u001b[1;33m[\u001b[0m\u001b[0mchomprow\u001b[0m\u001b[1;33m]\u001b[0m\u001b[1;33m)\u001b[0m\u001b[1;33m\u001b[0m\u001b[1;33m\u001b[0m\u001b[0m\n\u001b[0m\u001b[0;32m     22\u001b[0m         \u001b[0mchomprow\u001b[0m \u001b[1;33m+=\u001b[0m \u001b[1;36m1\u001b[0m\u001b[1;33m\u001b[0m\u001b[1;33m\u001b[0m\u001b[0m\n\u001b[0;32m     23\u001b[0m     \u001b[0mcurrentplayer\u001b[0m \u001b[1;33m=\u001b[0m \u001b[1;36m1\u001b[0m \u001b[1;33m-\u001b[0m \u001b[0mcurrentplayer\u001b[0m\u001b[1;33m\u001b[0m\u001b[1;33m\u001b[0m\u001b[0m\n",
      "\u001b[1;31mIndexError\u001b[0m: list index out of range"
     ]
    }
   ],
   "source": [
    "arraysize = input(\"Enter the number of rows and columns separated by a space: \").strip()\n",
    "rowsxcolumns = arraysize.split(\" \")\n",
    "numrows = int(rowsxcolumns[0])\n",
    "numcols = int(rowsxcolumns[1])\n",
    "\n",
    "gameplay = numrows*[numcols]\n",
    "\n",
    "currentplayer = 0\n",
    "\n",
    "while sum(gameplay) > 0:\n",
    "    row = 0\n",
    "    while row < numrows:\n",
    "        print(gameplay[row] * \"# \")\n",
    "        row += 1\n",
    "        \n",
    "    chomp = (input(\"Enter rows and colums to chop: \")).split(\" \")\n",
    "    chomprow = int(chomp[0])\n",
    "    chompcol = int(chomp[1])\n",
    "    \n",
    "    while chompcol < numrows:\n",
    "        gameplay[chomprow] = min(chompcol, gameplay[chomprow])\n",
    "        chomprow += 1\n",
    "    currentplayer = 1 - currentplayer"
   ]
  },
  {
   "cell_type": "markdown",
   "metadata": {},
   "source": [
    "### 7."
   ]
  },
  {
   "cell_type": "code",
   "execution_count": 26,
   "metadata": {},
   "outputs": [
    {
     "name": "stdout",
     "output_type": "stream",
     "text": [
      "[1, 2, 3, 4, 5, 6, 7, 8, 9, 10, 11, 12]\n"
     ]
    }
   ],
   "source": [
    "a = [1, 2, [3, 4, [5, 6], 7], [8, 9, [10, 11]], 12]\n",
    "b = []\n",
    "while len(a) > 0:\n",
    "    c = a.pop()\n",
    "    if type(c) == int:\n",
    "        b.append(c)\n",
    "    else:\n",
    "        a.extend(c)\n",
    "else:\n",
    "    b.reverse()\n",
    "    print(b)"
   ]
  },
  {
   "cell_type": "code",
   "execution_count": null,
   "metadata": {},
   "outputs": [],
   "source": []
  }
 ],
 "metadata": {
  "kernelspec": {
   "display_name": "Python 3",
   "language": "python",
   "name": "python3"
  },
  "language_info": {
   "codemirror_mode": {
    "name": "ipython",
    "version": 3
   },
   "file_extension": ".py",
   "mimetype": "text/x-python",
   "name": "python",
   "nbconvert_exporter": "python",
   "pygments_lexer": "ipython3",
   "version": "3.8.2"
  }
 },
 "nbformat": 4,
 "nbformat_minor": 4
}
