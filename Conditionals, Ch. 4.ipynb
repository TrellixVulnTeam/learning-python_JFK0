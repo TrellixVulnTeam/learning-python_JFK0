{
 "cells": [
  {
   "cell_type": "markdown",
   "metadata": {},
   "source": [
    "# Conditionals, Ch. 4"
   ]
  },
  {
   "cell_type": "markdown",
   "metadata": {},
   "source": [
    "# 1."
   ]
  },
  {
   "cell_type": "code",
   "execution_count": 2,
   "metadata": {},
   "outputs": [],
   "source": [
    "if \"ab\" in \"abcd\":\n",
    "    yaga = True\n",
    "if yaga != True:\n",
    "    print(\"foo\")\n",
    "if yaga == False:\n",
    "    print(\"bar\")"
   ]
  },
  {
   "cell_type": "markdown",
   "metadata": {},
   "source": [
    "### 2."
   ]
  },
  {
   "cell_type": "code",
   "execution_count": 3,
   "metadata": {},
   "outputs": [
    {
     "name": "stdout",
     "output_type": "stream",
     "text": [
      "Enter a height in feet: 5\n",
      "and in inches: 9\n",
      "you are too tall, tall boy\n"
     ]
    }
   ],
   "source": [
    "feet = float(input(\"Enter a height in feet: \"))\n",
    "if int(feet) != feet:\n",
    "    print(\"pick a real number, numb-nuts\")\n",
    "    \n",
    "inches = float(input(\"and in inches: \"))\n",
    "if int(inches) != inches:\n",
    "    print(\"pick a real number, numb-nuts\")\n",
    "    \n",
    "\n",
    "height = feet*12+inches\n",
    "\n",
    "if height >= 60:\n",
    "    print(\"you are too tall, tall boy\")\n",
    "elif height <= 45:\n",
    "    print(\"you are too short.  Short people got no reason to live\")\n",
    "else :\n",
    "    print(\"you may ride\")"
   ]
  },
  {
   "cell_type": "markdown",
   "metadata": {},
   "source": [
    "### 3."
   ]
  },
  {
   "cell_type": "code",
   "execution_count": 4,
   "metadata": {},
   "outputs": [
    {
     "name": "stdout",
     "output_type": "stream",
     "text": [
      "enter a number: 2\n",
      "a = 2.0 is positive\n"
     ]
    }
   ],
   "source": [
    "a = float(input(\"enter a number: \"))\n",
    "print(f\"a = {a} is \" + (\"positive\" if a > 0 else \"negative\" if a<0 else \"zero\"))"
   ]
  },
  {
   "cell_type": "markdown",
   "metadata": {},
   "source": [
    "### 4."
   ]
  },
  {
   "cell_type": "code",
   "execution_count": 5,
   "metadata": {},
   "outputs": [
    {
     "name": "stdout",
     "output_type": "stream",
     "text": [
      "yo give me an integer that's positive bb: 2\n"
     ]
    },
    {
     "ename": "AttributeError",
     "evalue": "'str' object has no attribute 'isnumber'",
     "output_type": "error",
     "traceback": [
      "\u001b[1;31m---------------------------------------------------------------------------\u001b[0m",
      "\u001b[1;31mAttributeError\u001b[0m                            Traceback (most recent call last)",
      "\u001b[1;32m<ipython-input-5-e7db4defeb33>\u001b[0m in \u001b[0;36m<module>\u001b[1;34m\u001b[0m\n\u001b[0;32m      1\u001b[0m \u001b[0ma\u001b[0m \u001b[1;33m=\u001b[0m \u001b[0minput\u001b[0m\u001b[1;33m(\u001b[0m\u001b[1;34m\"yo give me an integer that's positive bb: \"\u001b[0m\u001b[1;33m)\u001b[0m\u001b[1;33m\u001b[0m\u001b[1;33m\u001b[0m\u001b[0m\n\u001b[1;32m----> 2\u001b[1;33m \u001b[1;32mif\u001b[0m \u001b[0ma\u001b[0m\u001b[1;33m.\u001b[0m\u001b[0misnumber\u001b[0m\u001b[1;33m(\u001b[0m\u001b[1;33m)\u001b[0m \u001b[1;33m==\u001b[0m \u001b[1;32mFalse\u001b[0m\u001b[1;33m:\u001b[0m\u001b[1;33m\u001b[0m\u001b[1;33m\u001b[0m\u001b[0m\n\u001b[0m\u001b[0;32m      3\u001b[0m     \u001b[0mprint\u001b[0m\u001b[1;33m(\u001b[0m\u001b[1;34m\"this is not a number\"\u001b[0m\u001b[1;33m)\u001b[0m\u001b[1;33m\u001b[0m\u001b[1;33m\u001b[0m\u001b[0m\n\u001b[0;32m      4\u001b[0m \u001b[1;32melse\u001b[0m\u001b[1;33m:\u001b[0m\u001b[1;33m\u001b[0m\u001b[1;33m\u001b[0m\u001b[0m\n\u001b[0;32m      5\u001b[0m     \u001b[0ma\u001b[0m \u001b[1;33m=\u001b[0m \u001b[0mfloat\u001b[0m\u001b[1;33m(\u001b[0m\u001b[0ma\u001b[0m\u001b[1;33m)\u001b[0m\u001b[1;33m\u001b[0m\u001b[1;33m\u001b[0m\u001b[0m\n",
      "\u001b[1;31mAttributeError\u001b[0m: 'str' object has no attribute 'isnumber'"
     ]
    }
   ],
   "source": [
    "a = input(\"yo give me an integer that's positive bb: \")\n",
    "if a.isnumber() == False:\n",
    "    print(\"this is not a number\")\n",
    "else:\n",
    "    a = float(a)\n",
    "    if a <= 0:\n",
    "        print(\"this is not a positive number\")\n",
    "    elif int(a) != a:\n",
    "        print(\"this is not an integer\")\n",
    "    elif a % 2 == 0:\n",
    "        print(\"this is even\")\n",
    "    elif a % 2 != 0:\n",
    "        print(\"this is odd\")"
   ]
  },
  {
   "cell_type": "markdown",
   "metadata": {},
   "source": [
    "### 5."
   ]
  },
  {
   "cell_type": "code",
   "execution_count": null,
   "metadata": {},
   "outputs": [],
   "source": [
    "score = float(input(\"what is your score?: \"))\n",
    "if score < 60:\n",
    "    print(\"F\")\n",
    "elif 60 <= score < 70:\n",
    "    print(\"D\")\n",
    "elif 70 <= score < 80:\n",
    "    print(\"C\")\n",
    "elif 80 <= score < 90:\n",
    "    print(\"B\")\n",
    "elif 90 <= score <= 100:\n",
    "    print(\"A\")"
   ]
  },
  {
   "cell_type": "markdown",
   "metadata": {},
   "source": [
    "### 6."
   ]
  },
  {
   "cell_type": "code",
   "execution_count": null,
   "metadata": {},
   "outputs": [],
   "source": [
    "A = input(\"A, choose rock, paper, or scissors: \").lower()\n",
    "B = input(\"B, choose rock, paper, or scissors: \").lower()\n",
    "\n",
    "if A == \"rock\" and B == \"scissors\":\n",
    "    print(\"A wins\")\n",
    "elif A == \"rock\" and B == \"paper\":\n",
    "    print(\"B wins\")\n",
    "elif A == \"scissors\" and B == \"paper\":\n",
    "    print(\"A wins\")\n",
    "elif A == \"scissors\" and B == \"rock\":\n",
    "    print(\"B wins\")\n",
    "elif A == \"paper\" and B == \"rock\":\n",
    "    print(\"A wins\")\n",
    "elif A == \"paper\" and B == \"scissors\":\n",
    "    print(\"B wins\")\n",
    "else:\n",
    "    print(\"A tie? Cheaters...\")"
   ]
  },
  {
   "cell_type": "markdown",
   "metadata": {},
   "source": [
    "### 7."
   ]
  },
  {
   "cell_type": "code",
   "execution_count": null,
   "metadata": {},
   "outputs": [],
   "source": [
    "weight = float(input(\"yo, you heavy (in pounds?): \"))\n",
    "    \n",
    "height = int(input(\"give me your height in feet: \"))*12+int(input(\"give me the extra in inches: \"))\n",
    "\n",
    "bmi = (round(((weight*703)/(height**2))*10))/10\n",
    "print(bmi)\n",
    "\n",
    "if bmi < 18.5:\n",
    "    print(\"a bmi of \"+str(bmi)+\" is underweight\")\n",
    "elif 18.5 <= bmi <= 24.9:\n",
    "    print(\"a bmi of \"+str(bmi)+\" is normal weight\")\n",
    "elif 25 <= bmi <= 29.9:\n",
    "    print(\"a bmi of \"+str(bmi)+\" is overweight\")\n",
    "elif 30 <= bmi:\n",
    "    print(\"a bmi of \"+str(bmi)+\" is obese\")"
   ]
  },
  {
   "cell_type": "markdown",
   "metadata": {},
   "source": [
    "### 8."
   ]
  },
  {
   "cell_type": "code",
   "execution_count": null,
   "metadata": {},
   "outputs": [],
   "source": [
    "year = int(input(\"give me a year, any year: \"))\n",
    "if year % 4 == 0 and year % 100 != 0:\n",
    "    print(\"wowzas, a leap year!\")\n",
    "elif year % 400 == 0:\n",
    "    print(\"wowzas, a leap year!\")\n",
    "else:\n",
    "    print(\"not a leap year, brother.\")"
   ]
  },
  {
   "cell_type": "markdown",
   "metadata": {},
   "source": [
    "### 9."
   ]
  },
  {
   "cell_type": "code",
   "execution_count": 30,
   "metadata": {},
   "outputs": [
    {
     "name": "stdout",
     "output_type": "stream",
     "text": [
      "Provide a month: december\n",
      "Provide a day: 6\n",
      "Provide a year: 1960\n",
      "the 6 of december, 1960 was a Wednesday\n",
      "6\n",
      "True\n",
      "0\n",
      "15\n",
      "4\n"
     ]
    }
   ],
   "source": [
    "month = input(\"Provide a month: \").lower()\n",
    "day = int(input(\"Provide a day: \"))\n",
    "year = int(input(\"Provide a year: \"))\n",
    "if year % 4 == 0 and year % 100 != 0:\n",
    "    leapyear = True\n",
    "elif year % 400 == 0:\n",
    "    leapyear = True\n",
    "else:\n",
    "    leapyear = False\n",
    "    \n",
    "if month == \"april\" or month ==\"july\":\n",
    "    monthcode = 0\n",
    "elif month == \"january\" or month ==\"october\":\n",
    "    monthcode = 1\n",
    "elif month ==\"may\":\n",
    "    monthcode = 2\n",
    "elif month ==\"august\":\n",
    "    monthcode = 3\n",
    "elif month == \"february\" or month ==\"march\" or month ==\"november\":\n",
    "    monthcode = 4\n",
    "elif month == \"june\":\n",
    "    monthcode = 5\n",
    "elif month == \"september\" or month ==\"december\":\n",
    "    monthcode = 6\n",
    "else:\n",
    "    print(\"not a month\")\n",
    "if month == \"january\" and leapyear == True:\n",
    "    monthcode = monthcode - 1\n",
    "elif month == \"february\" and leapyear == True:\n",
    "    monthcode = monthcode - 1\n",
    "else:\n",
    "    monthcode = monthcode\n",
    "\n",
    "\n",
    "if year < 1900:\n",
    "    century_offset = 2\n",
    "elif year > 1999:\n",
    "    century_offset = -1\n",
    "else:\n",
    "    century_offset = 0\n",
    "\n",
    "yearcode = (int(str(year)[2:4])//4)\n",
    "\n",
    "daycode = round((yearcode + monthcode + day + century_offset)/7)\n",
    "if daycode == 0:\n",
    "    print (\"the \"+ str(day) + \" of \" + str(month) +\", \" + str(year) + \" was a Saturday\")\n",
    "elif daycode == 1:\n",
    "    print (\"the \"+ str(day) + \" of \" + str(month) +\", \" + str(year) + \" was a Sunday\")\n",
    "elif daycode == 2:\n",
    "    print (\"the \"+ str(day) + \" of \" + str(month) +\", \" + str(year) + \" was a Monday\")\n",
    "elif daycode == 3:\n",
    "    print (\"the \"+ str(day) + \" of \" + str(month) +\", \" + str(year) + \" was a Tuesday\")\n",
    "elif daycode == 4:\n",
    "    print (\"the \"+ str(day) + \" of \" + str(month) +\", \" + str(year) + \" was a Wednesday\")\n",
    "elif daycode == 5:\n",
    "    print (\"the \"+ str(day) + \" of \" + str(month) +\", \" + str(year) + \" was a Thursday\")\n",
    "elif daycode == 6:\n",
    "    print (\"the \"+ str(day) + \" of \" + str(month) +\", \" + str(year) + \" was a Friday\")\n",
    "else:\n",
    "    print(\"Something's not right here...\")\n",
    "print(monthcode)\n",
    "print(leapyear)\n",
    "print(century_offset)\n",
    "print(yearcode)\n",
    "print(daycode)"
   ]
  },
  {
   "cell_type": "markdown",
   "metadata": {},
   "source": [
    "### 10."
   ]
  },
  {
   "cell_type": "code",
   "execution_count": null,
   "metadata": {},
   "outputs": [],
   "source": []
  }
 ],
 "metadata": {
  "kernelspec": {
   "display_name": "Python 3",
   "language": "python",
   "name": "python3"
  },
  "language_info": {
   "codemirror_mode": {
    "name": "ipython",
    "version": 3
   },
   "file_extension": ".py",
   "mimetype": "text/x-python",
   "name": "python",
   "nbconvert_exporter": "python",
   "pygments_lexer": "ipython3",
   "version": "3.8.2"
  }
 },
 "nbformat": 4,
 "nbformat_minor": 4
}
