{
 "cells": [
  {
   "cell_type": "markdown",
   "metadata": {},
   "source": [
    "### Chapter 4 Practice: Conditionals\n"
   ]
  },
  {
   "cell_type": "code",
   "execution_count": 4,
   "metadata": {},
   "outputs": [
    {
     "name": "stdout",
     "output_type": "stream",
     "text": [
      "give an integer for a: 1\n",
      "give an integer for b: 2\n",
      "b > a\n"
     ]
    }
   ],
   "source": [
    "a = int(input(\"give an integer for a: \"))\n",
    "b = int(input(\"give an integer for b: \"))\n",
    "\n",
    "if a == b:\n",
    "    print(\"a = b\")\n",
    "elif a > b:\n",
    "    print(\"a > b\")\n",
    "else: \n",
    "    print(\"b > a\")"
   ]
  },
  {
   "cell_type": "code",
   "execution_count": 16,
   "metadata": {},
   "outputs": [
    {
     "name": "stdout",
     "output_type": "stream",
     "text": [
      "give an integer for a: 3.7\n",
      "give an integer for b: 2\n",
      "invalid\n"
     ]
    }
   ],
   "source": [
    "a = float(input(\"give an integer for a: \"))\n",
    "b = float(input(\"give an integer for b: \"))\n",
    "\n",
    "if int(a) != a or int(b) != b:\n",
    "    print(\"invalid\")\n",
    "else:\n",
    "    if a == b:\n",
    "        print(\"a = b\")\n",
    "    elif a > b:\n",
    "        print(\"a > b\")\n",
    "    else: \n",
    "        print(\"b > a\")"
   ]
  },
  {
   "cell_type": "code",
   "execution_count": null,
   "metadata": {},
   "outputs": [],
   "source": []
  }
 ],
 "metadata": {
  "kernelspec": {
   "display_name": "Python 3",
   "language": "python",
   "name": "python3"
  },
  "language_info": {
   "codemirror_mode": {
    "name": "ipython",
    "version": 3
   },
   "file_extension": ".py",
   "mimetype": "text/x-python",
   "name": "python",
   "nbconvert_exporter": "python",
   "pygments_lexer": "ipython3",
   "version": "3.8.2"
  }
 },
 "nbformat": 4,
 "nbformat_minor": 4
}
