{
 "cells": [
  {
   "cell_type": "markdown",
   "metadata": {},
   "source": [
    "# 'Input()' and 'Output()'"
   ]
  },
  {
   "cell_type": "markdown",
   "metadata": {},
   "source": [
    "### Ch.2 Exercise 2"
   ]
  },
  {
   "cell_type": "code",
   "execution_count": 8,
   "metadata": {},
   "outputs": [
    {
     "name": "stdout",
     "output_type": "stream",
     "text": [
      "enter a complex number4-7j\n",
      "8.06225774829855\n"
     ]
    }
   ],
   "source": [
    "a = input(\"enter a complex number\")\n",
    "b = complex(a)\n",
    "print(abs(b))"
   ]
  },
  {
   "cell_type": "markdown",
   "metadata": {},
   "source": [
    "### Ch.2 Exercise 7"
   ]
  },
  {
   "cell_type": "code",
   "execution_count": 3,
   "metadata": {},
   "outputs": [
    {
     "name": "stdout",
     "output_type": "stream",
     "text": [
      "give me a temperature, heathen!: 32\n",
      "0.0\n"
     ]
    }
   ],
   "source": [
    "f = input(\"give me a temperature, heathen!: \")\n",
    "t = float(f)\n",
    "c = (5/9)*(t-32)\n",
    "print(c)"
   ]
  },
  {
   "cell_type": "markdown",
   "metadata": {},
   "source": [
    "### Ch.2 - 8\n"
   ]
  },
  {
   "cell_type": "code",
   "execution_count": 1,
   "metadata": {},
   "outputs": [
    {
     "name": "stdout",
     "output_type": "stream",
     "text": [
      "give me an 'H'!: 12\n",
      "give me an 'R'!: 17\n",
      "34227.788062977896\n",
      "6986.401146494285\n"
     ]
    }
   ],
   "source": [
    "height = input(\"give me an 'H'!: \")\n",
    "radius = input(\"give me an 'R'!: \")\n",
    "import math\n",
    "h = float(height)\n",
    "r = float(radius)\n",
    "v = ((math.pi*r)**2)*h\n",
    "print(v)\n",
    "sa = (((2*math.pi)*r)*h)+(2*((math.pi*r)**2))\n",
    "print(sa)"
   ]
  },
  {
   "cell_type": "markdown",
   "metadata": {},
   "source": [
    "### Ch.2-9"
   ]
  },
  {
   "cell_type": "code",
   "execution_count": 2,
   "metadata": {},
   "outputs": [
    {
     "name": "stdout",
     "output_type": "stream",
     "text": [
      "what'd the meal cost, glutton?: 32.96\n",
      "6.59\n"
     ]
    }
   ],
   "source": [
    "subtotal = input(\"what'd the meal cost, glutton?: \")\n",
    "s = float(subtotal)\n",
    "t = .2*s\n",
    "pennies = t*100\n",
    "dollars = int(pennies)\n",
    "tip = dollars/100\n",
    "print(tip)"
   ]
  },
  {
   "cell_type": "markdown",
   "metadata": {},
   "source": [
    "### Ch.2-10"
   ]
  },
  {
   "cell_type": "code",
   "execution_count": 3,
   "metadata": {},
   "outputs": [
    {
     "name": "stdout",
     "output_type": "stream",
     "text": [
      "Give a principal investment: 150\n",
      "What's the interest rate?: .032\n",
      "How often does this bad boy gain such interest?: 12\n",
      "150.39999999999998\n",
      "908.4374330483192\n"
     ]
    }
   ],
   "source": [
    "P = float(input(\"Give a principal investment: \"))\n",
    "r = float(input(\"What's the interest rate?: \"))\n",
    "t = float(input(\"How often does this bad boy gain such interest?: \"))\n",
    "I = (1+(r/t))\n",
    "A = P*I\n",
    "print(A)\n",
    "A2 = (A+P)*I\n",
    "A3 = (A2+P)*I\n",
    "A4 = (A3+P)*I\n",
    "A5 = (A4+P)*I\n",
    "A6 = (A5+P)*I\n",
    "print(A6)"
   ]
  },
  {
   "cell_type": "markdown",
   "metadata": {},
   "source": [
    "### Ch.2-11"
   ]
  },
  {
   "cell_type": "code",
   "execution_count": 4,
   "metadata": {},
   "outputs": [
    {
     "name": "stdout",
     "output_type": "stream",
     "text": [
      "How many sides on this bad polygon?: 12\n",
      "they long bois?: 1\n",
      "12.0\n",
      "11.196152422706632\n"
     ]
    }
   ],
   "source": [
    "n = float(input(\"How many sides on this bad polygon?: \"))\n",
    "l = float(input(\"they long bois?: \"))\n",
    "p = n*l\n",
    "print(p)\n",
    "ap = l/(2*math.tan(math.pi/n))\n",
    "a = .5*p*ap\n",
    "print(a)"
   ]
  },
  {
   "cell_type": "markdown",
   "metadata": {},
   "source": [
    "### Ch.2 - 12"
   ]
  },
  {
   "cell_type": "code",
   "execution_count": 6,
   "metadata": {},
   "outputs": [
    {
     "name": "stdout",
     "output_type": "stream",
     "text": [
      "Give a number: 12\n",
      "Anotha one: 14\n",
      "(1.0, 2.0)\n"
     ]
    }
   ],
   "source": [
    "int1 = float(input(\"Give a number: \"))\n",
    "int2 = float(input(\"Anotha one: \"))\n",
    "print(divmod (max(int1, int2), (min(int1, int2))))"
   ]
  },
  {
   "cell_type": "markdown",
   "metadata": {},
   "source": [
    "### Ch. 3-7"
   ]
  },
  {
   "cell_type": "code",
   "execution_count": 13,
   "metadata": {},
   "outputs": [
    {
     "name": "stdout",
     "output_type": "stream",
     "text": [
      "Give us ya first name: rutledge\n",
      "Give us ya last name: joseph\n",
      "Your student ID is now joseru01, welcome to Hell.\n"
     ]
    }
   ],
   "source": [
    "f = (input(\"Give us ya first name: \"))\n",
    "l = (input(\"Give us ya last name: \"))\n",
    "studentID = l[0:4]+f[0:2]+\"01\"\n",
    "print(\"Your student ID is now \"+studentID+\", welcome to Hell.\")"
   ]
  },
  {
   "cell_type": "markdown",
   "metadata": {},
   "source": [
    "### 2."
   ]
  },
  {
   "cell_type": "code",
   "execution_count": 31,
   "metadata": {},
   "outputs": [
    {
     "ename": "AttributeError",
     "evalue": "'_io.TextIOWrapper' object has no attribute 'lower'",
     "output_type": "error",
     "traceback": [
      "\u001b[1;31m---------------------------------------------------------------------------\u001b[0m",
      "\u001b[1;31mAttributeError\u001b[0m                            Traceback (most recent call last)",
      "\u001b[1;32m<ipython-input-31-782bce1e3b61>\u001b[0m in \u001b[0;36m<module>\u001b[1;34m\u001b[0m\n\u001b[0;32m      1\u001b[0m \u001b[1;32mwith\u001b[0m \u001b[0mopen\u001b[0m\u001b[1;33m(\u001b[0m\u001b[1;34m\"Seuss\"\u001b[0m\u001b[1;33m,\u001b[0m\u001b[1;34m\"a+\"\u001b[0m\u001b[1;33m)\u001b[0m \u001b[1;32mas\u001b[0m \u001b[0mf\u001b[0m\u001b[1;33m:\u001b[0m\u001b[1;33m\u001b[0m\u001b[1;33m\u001b[0m\u001b[0m\n\u001b[0;32m      2\u001b[0m     \u001b[0mf\u001b[0m\u001b[1;33m.\u001b[0m\u001b[0mread\u001b[0m\u001b[1;33m(\u001b[0m\u001b[1;33m)\u001b[0m\u001b[1;33m\u001b[0m\u001b[1;33m\u001b[0m\u001b[0m\n\u001b[1;32m----> 3\u001b[1;33m     \u001b[0mc\u001b[0m \u001b[1;33m=\u001b[0m \u001b[0mf\u001b[0m\u001b[1;33m.\u001b[0m\u001b[0mlower\u001b[0m\u001b[1;33m(\u001b[0m\u001b[1;33m)\u001b[0m\u001b[1;33m\u001b[0m\u001b[1;33m\u001b[0m\u001b[0m\n\u001b[0m\u001b[0;32m      4\u001b[0m     \u001b[0mprint\u001b[0m\u001b[1;33m(\u001b[0m\u001b[0mc\u001b[0m\u001b[1;33m.\u001b[0m\u001b[0mcount\u001b[0m\u001b[1;33m(\u001b[0m\u001b[1;34m\"oh\"\u001b[0m\u001b[1;33m)\u001b[0m\u001b[1;33m)\u001b[0m\u001b[1;33m\u001b[0m\u001b[1;33m\u001b[0m\u001b[0m\n\u001b[0;32m      5\u001b[0m     \u001b[0mprint\u001b[0m\u001b[1;33m(\u001b[0m\u001b[0mc\u001b[0m\u001b[1;33m.\u001b[0m\u001b[0mcount\u001b[0m\u001b[1;33m(\u001b[0m\u001b[1;34m\"the\"\u001b[0m\u001b[1;33m)\u001b[0m\u001b[1;33m)\u001b[0m\u001b[1;33m\u001b[0m\u001b[1;33m\u001b[0m\u001b[0m\n",
      "\u001b[1;31mAttributeError\u001b[0m: '_io.TextIOWrapper' object has no attribute 'lower'"
     ]
    }
   ],
   "source": [
    "with open(\"Seuss\",\"a+\") as f:\n",
    "    f.read()\n",
    "    c = f.lower()\n",
    "    print(c.count(\"oh\"))\n",
    "    print(c.count(\"the\"))\n",
    "    print(c.count(\"places\"))\n",
    "    print(c.count(\"you'll\"))\n",
    "    print(c.count(\"go\"))\n",
    "    f.write(\"Unless, of course, you may very well say: \\n\\\"I'll do it, I'll do it!\\nBut just not today.\\\"\")"
   ]
  }
 ],
 "metadata": {
  "kernelspec": {
   "display_name": "Python 3",
   "language": "python",
   "name": "python3"
  },
  "language_info": {
   "codemirror_mode": {
    "name": "ipython",
    "version": 3
   },
   "file_extension": ".py",
   "mimetype": "text/x-python",
   "name": "python",
   "nbconvert_exporter": "python",
   "pygments_lexer": "ipython3",
   "version": "3.8.2"
  }
 },
 "nbformat": 4,
 "nbformat_minor": 4
}
