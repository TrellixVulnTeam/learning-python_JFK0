{
 "cells": [
  {
   "cell_type": "code",
   "execution_count": 2,
   "metadata": {},
   "outputs": [
    {
     "name": "stdout",
     "output_type": "stream",
     "text": [
      "1\n",
      "2\n",
      "3\n",
      "4\n"
     ]
    }
   ],
   "source": [
    "for n in [1,2,3,4]:\n",
    "    print(n)"
   ]
  },
  {
   "cell_type": "markdown",
   "metadata": {},
   "source": [
    "### 1."
   ]
  },
  {
   "cell_type": "code",
   "execution_count": null,
   "metadata": {},
   "outputs": [],
   "source": []
  },
  {
   "cell_type": "markdown",
   "metadata": {},
   "source": [
    "### 2."
   ]
  },
  {
   "cell_type": "code",
   "execution_count": 11,
   "metadata": {},
   "outputs": [
    {
     "name": "stdout",
     "output_type": "stream",
     "text": [
      "Input a positive integer: 12\n",
      "1\n",
      "2\n",
      "3\n",
      "4\n",
      "6\n",
      "12\n"
     ]
    }
   ],
   "source": [
    "n = int(input(\"Input a positive integer: \"))\n",
    "for i in range(1, n+1):\n",
    "    if n%i == 0:\n",
    "        print(i)"
   ]
  },
  {
   "cell_type": "markdown",
   "metadata": {},
   "source": [
    "### 3."
   ]
  },
  {
   "cell_type": "code",
   "execution_count": 16,
   "metadata": {},
   "outputs": [
    {
     "name": "stdout",
     "output_type": "stream",
     "text": [
      "Input a positive integer: 37\n",
      "37 is a prime number\n"
     ]
    }
   ],
   "source": [
    "n = int(input(\"Input a positive integer: \"))\n",
    "c = []\n",
    "for i in range(1, n+1):\n",
    "    if n%i == 0:\n",
    "        c.append(i)\n",
    "if len(c) > 2:\n",
    "    print(f\"{n} is not a prime number\")\n",
    "else:\n",
    "    print(f\"{n} is a prime number\")"
   ]
  },
  {
   "cell_type": "markdown",
   "metadata": {},
   "source": [
    "### 4."
   ]
  },
  {
   "cell_type": "code",
   "execution_count": 26,
   "metadata": {},
   "outputs": [
    {
     "name": "stdout",
     "output_type": "stream",
     "text": [
      "[1, 3, 12, 7, 24]\n"
     ]
    }
   ],
   "source": [
    "a = [1, 1, 3, 12, 12, 7, 24, 24, 7]\n",
    "c = []\n",
    "for i in range(0, len(a)):\n",
    "    if a[i] not in c:\n",
    "        c.append(a[i])\n",
    "print(c)"
   ]
  },
  {
   "cell_type": "markdown",
   "metadata": {},
   "source": [
    "### 5."
   ]
  },
  {
   "cell_type": "code",
   "execution_count": 33,
   "metadata": {
    "scrolled": false
   },
   "outputs": [
    {
     "name": "stdout",
     "output_type": "stream",
     "text": [
      "26.2\n",
      "0.6\n",
      "87.5\n",
      "1407103.488\n"
     ]
    }
   ],
   "source": [
    "a = [1, 1, 3.7, 12, 12, .6, 26.2, 24, 7]\n",
    "minimum = a[0]\n",
    "maximum = a[0]\n",
    "total = 0\n",
    "product = 1\n",
    "for i in range(0, len(a)):\n",
    "    for c in range(0, len(a)):\n",
    "        if a[i] > a[c] and a[i] >= maximum:\n",
    "            maximum = a[i]\n",
    "        elif a[i] < a[c] and a[i] <= minimum:\n",
    "            minimum = a[i]\n",
    "    total += a[i]\n",
    "    product *= a[i]\n",
    "print(maximum)\n",
    "print(minimum)\n",
    "print(total)\n",
    "print(product)"
   ]
  },
  {
   "cell_type": "markdown",
   "metadata": {},
   "source": [
    "### 6."
   ]
  },
  {
   "cell_type": "code",
   "execution_count": 2,
   "metadata": {},
   "outputs": [
    {
     "name": "stdout",
     "output_type": "stream",
     "text": [
      "Type a word: racecar\n",
      "racecar is a palindrome\n"
     ]
    }
   ],
   "source": [
    "s = input (\"Type a word: \")\n",
    "a = list(s)\n",
    "palindrome = True\n",
    "for i in range(0, len(a)):\n",
    "    if a[i] != a[len(a)-1-i]:\n",
    "        palindrome = False\n",
    "if palindrome == False:\n",
    "    print(f\"{s} is not a palindrome\")\n",
    "else:\n",
    "    print(f\"{s} is a palindrome\")"
   ]
  },
  {
   "cell_type": "code",
   "execution_count": null,
   "metadata": {},
   "outputs": [],
   "source": []
  }
 ],
 "metadata": {
  "kernelspec": {
   "display_name": "Python 3",
   "language": "python",
   "name": "python3"
  },
  "language_info": {
   "codemirror_mode": {
    "name": "ipython",
    "version": 3
   },
   "file_extension": ".py",
   "mimetype": "text/x-python",
   "name": "python",
   "nbconvert_exporter": "python",
   "pygments_lexer": "ipython3",
   "version": "3.8.2"
  }
 },
 "nbformat": 4,
 "nbformat_minor": 4
}
