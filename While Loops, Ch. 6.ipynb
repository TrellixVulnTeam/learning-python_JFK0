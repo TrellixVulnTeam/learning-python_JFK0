{
 "cells": [
  {
   "cell_type": "markdown",
   "metadata": {},
   "source": [
    "# Ch. 6, While Loops"
   ]
  },
  {
   "cell_type": "markdown",
   "metadata": {},
   "source": [
    "### Warmup"
   ]
  },
  {
   "cell_type": "code",
   "execution_count": 5,
   "metadata": {},
   "outputs": [
    {
     "name": "stdout",
     "output_type": "stream",
     "text": [
      "Would you like to play a game? yes\n",
      "Your roll is: 4\n",
      "Turn total: 4\n",
      "would you like to roll again? no\n",
      "\n",
      "Your turn has ended\n",
      "Total score: 4\n"
     ]
    }
   ],
   "source": [
    "import random as rd\n",
    "runningscore = 0\n",
    "startround = input(\"Would you like to play a game? \")\n",
    "myturn = startround == \"yes\"\n",
    "while myturn:\n",
    "        roll = rd.randint(1, 6)\n",
    "        print(\"Your roll is: \" + str(roll))\n",
    "        if roll > 1:\n",
    "            runningscore += roll\n",
    "            print(\"Turn total: \" + str(runningscore))\n",
    "            rollagain = input(\"would you like to roll again? \").lower()\n",
    "            if rollagain != \"yes\":\n",
    "                myturn = False\n",
    "        else:\n",
    "            print(\"pig!\")\n",
    "            runningscore = 0\n",
    "            myturn = False\n",
    "print(\"\\nYour turn has ended\")\n",
    "print(\"Total score: \" + str(runningscore))"
   ]
  },
  {
   "cell_type": "markdown",
   "metadata": {},
   "source": [
    "### 1."
   ]
  },
  {
   "cell_type": "code",
   "execution_count": 22,
   "metadata": {},
   "outputs": [
    {
     "name": "stdout",
     "output_type": "stream",
     "text": [
      "Roll: 2\n",
      "Roll: 5\n",
      "Roll: 5\n",
      "Roll: 2\n",
      "Roll: 3\n",
      "Roll: 5\n",
      "Turn total: 22\n"
     ]
    }
   ],
   "source": [
    "import random as rd\n",
    "\n",
    "rd.seed(3)\n",
    "roll = 0\n",
    "turntotal = 0\n",
    "while roll != 1 and turntotal < 20:\n",
    "    roll = rd.randint(1, 6)\n",
    "    print(\"Roll: \" + str(roll))\n",
    "    turntotal += roll\n",
    "    if roll == 1:\n",
    "        print(\"pig!\")\n",
    "        turntotal = 0\n",
    "        \n",
    "print(\"Turn total: \" + str(turntotal))"
   ]
  },
  {
   "cell_type": "markdown",
   "metadata": {},
   "source": [
    "### 2."
   ]
  },
  {
   "cell_type": "code",
   "execution_count": 34,
   "metadata": {},
   "outputs": [
    {
     "name": "stdout",
     "output_type": "stream",
     "text": [
      "score?: 3\n",
      "Roll: 4\n",
      "Roll: 3\n",
      "Roll: 2\n",
      "Roll: 2\n",
      "Roll: 4\n",
      "Roll: 5\n",
      "23\n",
      "Turn total: 20\n"
     ]
    }
   ],
   "source": [
    "import random as rd\n",
    "\n",
    "rd.seed(41)\n",
    "roll = 0\n",
    "turntotal = 0\n",
    "newscore = 0\n",
    "\n",
    "score = int(input(\"score?: \"))\n",
    "while roll != 1 and turntotal < 20 and newscore <= 100:\n",
    "    roll = rd.randint(1, 6)\n",
    "    print(\"Roll: \" + str(roll))\n",
    "    turntotal += roll\n",
    "    newscore = score + turntotal\n",
    "    if roll == 1:\n",
    "        print(\"pig!\")\n",
    "        newscore = score\n",
    "        turntotal = 0\n",
    "print(str(newscore))\n",
    "score = newscore\n",
    "print(\"Turn total: \" + str(turntotal))"
   ]
  },
  {
   "cell_type": "markdown",
   "metadata": {},
   "source": [
    "### 3."
   ]
  },
  {
   "cell_type": "code",
   "execution_count": 50,
   "metadata": {},
   "outputs": [
    {
     "name": "stdout",
     "output_type": "stream",
     "text": [
      "Roll: 4\n",
      "Roll: 4\n",
      "Roll: 1\n",
      "pig!\n",
      "Turn total: 0\n",
      "New score: 0\n",
      "Roll: 3\n",
      "Roll: 5\n",
      "Roll: 4\n",
      "Roll: 4\n",
      "Roll: 3\n",
      "Roll: 4\n",
      "Turn total: 23\n",
      "New score: 23\n",
      "Roll: 3\n",
      "Roll: 5\n",
      "Roll: 2\n",
      "Roll: 5\n",
      "Roll: 2\n",
      "Roll: 3\n",
      "Turn total: 20\n",
      "New score: 43\n",
      "Roll: 2\n",
      "Roll: 1\n",
      "pig!\n",
      "Turn total: 0\n",
      "New score: 43\n",
      "Roll: 5\n",
      "Roll: 3\n",
      "Roll: 5\n",
      "Roll: 6\n",
      "Roll: 5\n",
      "Turn total: 24\n",
      "New score: 67\n",
      "Roll: 2\n",
      "Roll: 3\n",
      "Roll: 1\n",
      "pig!\n",
      "Turn total: 0\n",
      "New score: 67\n",
      "Roll: 6\n",
      "Roll: 1\n",
      "pig!\n",
      "Turn total: 0\n",
      "New score: 67\n",
      "Roll: 6\n",
      "Roll: 3\n",
      "Roll: 4\n",
      "Roll: 5\n",
      "Roll: 1\n",
      "pig!\n",
      "Turn total: 0\n",
      "New score: 67\n",
      "Roll: 3\n",
      "Roll: 4\n",
      "Roll: 3\n",
      "Roll: 5\n",
      "Roll: 6\n",
      "Turn total: 21\n",
      "New score: 88\n",
      "Roll: 2\n",
      "Roll: 5\n",
      "Roll: 4\n",
      "Roll: 4\n",
      "Turn total: 15\n",
      "New score: 103\n"
     ]
    }
   ],
   "source": [
    "import random as rd\n",
    "\n",
    "rd.seed(0)\n",
    "score = 0\n",
    "\n",
    "while score <= 100:\n",
    "    turntotal = 0\n",
    "    roll = 0\n",
    "    while roll != 1 and turntotal < 20 and (turntotal + score) < 100:\n",
    "        roll = rd.randint(1, 6)\n",
    "        print(\"Roll: \" + str(roll))\n",
    "        if roll == 1:\n",
    "            print(\"pig!\")\n",
    "            turntotal = 0\n",
    "        else:\n",
    "            turntotal += roll\n",
    "    score = score + turntotal\n",
    "    print(\"Turn total: \" + str(turntotal))\n",
    "    print(\"New score: \" + str(score))"
   ]
  },
  {
   "cell_type": "code",
   "execution_count": null,
   "metadata": {},
   "outputs": [],
   "source": []
  }
 ],
 "metadata": {
  "kernelspec": {
   "display_name": "Python 3",
   "language": "python",
   "name": "python3"
  },
  "language_info": {
   "codemirror_mode": {
    "name": "ipython",
    "version": 3
   },
   "file_extension": ".py",
   "mimetype": "text/x-python",
   "name": "python",
   "nbconvert_exporter": "python",
   "pygments_lexer": "ipython3",
   "version": "3.8.2"
  }
 },
 "nbformat": 4,
 "nbformat_minor": 4
}
