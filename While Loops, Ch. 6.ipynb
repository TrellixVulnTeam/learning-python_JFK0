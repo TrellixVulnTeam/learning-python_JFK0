{
 "cells": [
  {
   "cell_type": "markdown",
   "metadata": {},
   "source": [
    "# Ch. 6, While Loops"
   ]
  },
  {
   "cell_type": "markdown",
   "metadata": {},
   "source": [
    "### Warmup"
   ]
  },
  {
   "cell_type": "code",
   "execution_count": 5,
   "metadata": {},
   "outputs": [
    {
     "name": "stdout",
     "output_type": "stream",
     "text": [
      "Would you like to play a game? yes\n",
      "Your roll is: 4\n",
      "Turn total: 4\n",
      "would you like to roll again? no\n",
      "\n",
      "Your turn has ended\n",
      "Total score: 4\n"
     ]
    }
   ],
   "source": [
    "import random as rd\n",
    "runningscore = 0\n",
    "startround = input(\"Would you like to play a game? \")\n",
    "myturn = startround == \"yes\"\n",
    "while myturn:\n",
    "        roll = rd.randint(1, 6)\n",
    "        print(\"Your roll is: \" + str(roll))\n",
    "        if roll > 1:\n",
    "            runningscore += roll\n",
    "            print(\"Turn total: \" + str(runningscore))\n",
    "            rollagain = input(\"would you like to roll again? \").lower()\n",
    "            if rollagain != \"yes\":\n",
    "                myturn = False\n",
    "        else:\n",
    "            print(\"pig!\")\n",
    "            runningscore = 0\n",
    "            myturn = False\n",
    "print(\"\\nYour turn has ended\")\n",
    "print(\"Total score: \" + str(runningscore))"
   ]
  },
  {
   "cell_type": "markdown",
   "metadata": {},
   "source": [
    "### 1."
   ]
  },
  {
   "cell_type": "code",
   "execution_count": 22,
   "metadata": {},
   "outputs": [
    {
     "name": "stdout",
     "output_type": "stream",
     "text": [
      "Roll: 2\n",
      "Roll: 5\n",
      "Roll: 5\n",
      "Roll: 2\n",
      "Roll: 3\n",
      "Roll: 5\n",
      "Turn total: 22\n"
     ]
    }
   ],
   "source": [
    "import random as rd\n",
    "\n",
    "rd.seed(3)\n",
    "roll = 0\n",
    "turntotal = 0\n",
    "while roll != 1 and turntotal < 20:\n",
    "    roll = rd.randint(1, 6)\n",
    "    print(\"Roll: \" + str(roll))\n",
    "    turntotal += roll\n",
    "    if roll == 1:\n",
    "        print(\"pig!\")\n",
    "        turntotal = 0\n",
    "        \n",
    "print(\"Turn total: \" + str(turntotal))"
   ]
  },
  {
   "cell_type": "markdown",
   "metadata": {},
   "source": [
    "### 2."
   ]
  },
  {
   "cell_type": "code",
   "execution_count": 34,
   "metadata": {},
   "outputs": [
    {
     "name": "stdout",
     "output_type": "stream",
     "text": [
      "score?: 3\n",
      "Roll: 4\n",
      "Roll: 3\n",
      "Roll: 2\n",
      "Roll: 2\n",
      "Roll: 4\n",
      "Roll: 5\n",
      "23\n",
      "Turn total: 20\n"
     ]
    }
   ],
   "source": [
    "import random as rd\n",
    "\n",
    "rd.seed(41)\n",
    "roll = 0\n",
    "turntotal = 0\n",
    "newscore = 0\n",
    "\n",
    "score = int(input(\"score?: \"))\n",
    "while roll != 1 and turntotal < 20 and newscore <= 100:\n",
    "    roll = rd.randint(1, 6)\n",
    "    print(\"Roll: \" + str(roll))\n",
    "    turntotal += roll\n",
    "    newscore = score + turntotal\n",
    "    if roll == 1:\n",
    "        print(\"pig!\")\n",
    "        newscore = score\n",
    "        turntotal = 0\n",
    "print(str(newscore))\n",
    "score = newscore\n",
    "print(\"Turn total: \" + str(turntotal))"
   ]
  },
  {
   "cell_type": "markdown",
   "metadata": {},
   "source": [
    "### 3."
   ]
  },
  {
   "cell_type": "code",
   "execution_count": 50,
   "metadata": {},
   "outputs": [
    {
     "name": "stdout",
     "output_type": "stream",
     "text": [
      "Roll: 4\n",
      "Roll: 4\n",
      "Roll: 1\n",
      "pig!\n",
      "Turn total: 0\n",
      "New score: 0\n",
      "Roll: 3\n",
      "Roll: 5\n",
      "Roll: 4\n",
      "Roll: 4\n",
      "Roll: 3\n",
      "Roll: 4\n",
      "Turn total: 23\n",
      "New score: 23\n",
      "Roll: 3\n",
      "Roll: 5\n",
      "Roll: 2\n",
      "Roll: 5\n",
      "Roll: 2\n",
      "Roll: 3\n",
      "Turn total: 20\n",
      "New score: 43\n",
      "Roll: 2\n",
      "Roll: 1\n",
      "pig!\n",
      "Turn total: 0\n",
      "New score: 43\n",
      "Roll: 5\n",
      "Roll: 3\n",
      "Roll: 5\n",
      "Roll: 6\n",
      "Roll: 5\n",
      "Turn total: 24\n",
      "New score: 67\n",
      "Roll: 2\n",
      "Roll: 3\n",
      "Roll: 1\n",
      "pig!\n",
      "Turn total: 0\n",
      "New score: 67\n",
      "Roll: 6\n",
      "Roll: 1\n",
      "pig!\n",
      "Turn total: 0\n",
      "New score: 67\n",
      "Roll: 6\n",
      "Roll: 3\n",
      "Roll: 4\n",
      "Roll: 5\n",
      "Roll: 1\n",
      "pig!\n",
      "Turn total: 0\n",
      "New score: 67\n",
      "Roll: 3\n",
      "Roll: 4\n",
      "Roll: 3\n",
      "Roll: 5\n",
      "Roll: 6\n",
      "Turn total: 21\n",
      "New score: 88\n",
      "Roll: 2\n",
      "Roll: 5\n",
      "Roll: 4\n",
      "Roll: 4\n",
      "Turn total: 15\n",
      "New score: 103\n"
     ]
    }
   ],
   "source": [
    "import random as rd\n",
    "\n",
    "rd.seed(0)\n",
    "score = 0\n",
    "\n",
    "while score < 100:\n",
    "    turntotal = 0\n",
    "    roll = 0\n",
    "    while roll != 1 and turntotal < 20 and (turntotal + score) < 100:\n",
    "        roll = rd.randint(1, 6)\n",
    "        print(\"Roll: \" + str(roll))\n",
    "        if roll == 1:\n",
    "            print(\"pig!\")\n",
    "            turntotal = 0\n",
    "        else:\n",
    "            turntotal += roll\n",
    "    score = score + turntotal\n",
    "    print(\"Turn total: \" + str(turntotal))\n",
    "    print(\"New score: \" + str(score))"
   ]
  },
  {
   "cell_type": "markdown",
   "metadata": {},
   "source": [
    "### 4."
   ]
  },
  {
   "cell_type": "code",
   "execution_count": 10,
   "metadata": {},
   "outputs": [
    {
     "name": "stdout",
     "output_type": "stream",
     "text": [
      "Games? 1000\n",
      "avg number of turns per game 12.631\n"
     ]
    }
   ],
   "source": [
    "import random as rd\n",
    "seed = rd.seed(1)\n",
    "\n",
    "gamestotal = int(input(\"Games? \"))\n",
    "turncount = 0\n",
    "\n",
    "gamenumber = 0\n",
    "while gamenumber < gamestotal:\n",
    "    gamenumber += 1\n",
    "    score = 0\n",
    "    while score < 100:\n",
    "        \n",
    "        turnscore = 0\n",
    "        roll = 0\n",
    "        while roll != 1 and turnscore < 20 and (turnscore + score) < 100:\n",
    "            roll = rd.randint(1, 6)\n",
    "            if roll == 1:\n",
    "                turnscore = 0\n",
    "            else:\n",
    "                turnscore += roll\n",
    "        turncount += 1\n",
    "        score = score + turnscore\n",
    "avgturn = turncount / gamestotal\n",
    "print(\"avg number of turns per game \" + str(avgturn))"
   ]
  },
  {
   "cell_type": "markdown",
   "metadata": {},
   "source": [
    "### 5."
   ]
  },
  {
   "cell_type": "code",
   "execution_count": 23,
   "metadata": {},
   "outputs": [
    {
     "name": "stdout",
     "output_type": "stream",
     "text": [
      "Player 1 score: 0\n",
      "Player 2 score: 0\n",
      "It is player 1's turn\n",
      "Roll: 1\n",
      "pig!\n",
      "Turn total: 0\n",
      "Player 1 score: 0\n",
      "Player 2 score: 0\n",
      "It is player 2's turn\n",
      "Roll: 1\n",
      "pig!\n",
      "Turn total: 0\n",
      "Player 1 score: 0\n",
      "Player 2 score: 0\n",
      "It is player 1's turn\n",
      "Roll: 1\n",
      "pig!\n",
      "Turn total: 0\n",
      "Player 1 score: 0\n",
      "Player 2 score: 0\n",
      "It is player 2's turn\n",
      "Roll: 3\n",
      "Roll: 2\n",
      "Roll: 6\n",
      "Roll: 6\n",
      "Roll: 3\n",
      "Turn total: 20\n",
      "Player 1 score: 0\n",
      "Player 2 score: 20\n",
      "It is player 1's turn\n",
      "Roll: 3\n",
      "Roll: 5\n",
      "Roll: 2\n",
      "Roll: 5\n",
      "Roll: 1\n",
      "pig!\n",
      "Turn total: 0\n",
      "Player 1 score: 0\n",
      "Player 2 score: 20\n",
      "It is player 2's turn\n",
      "Roll: 5\n",
      "Roll: 6\n",
      "Roll: 2\n",
      "Roll: 4\n",
      "Roll: 6\n",
      "Turn total: 23\n",
      "Player 1 score: 0\n",
      "Player 2 score: 43\n",
      "It is player 1's turn\n",
      "Roll: 4\n",
      "Roll: 6\n",
      "Roll: 5\n",
      "Roll: 3\n",
      "Roll: 5\n",
      "Turn total: 23\n",
      "Player 1 score: 23\n",
      "Player 2 score: 43\n",
      "It is player 2's turn\n",
      "Roll: 4\n",
      "Roll: 5\n",
      "Roll: 3\n",
      "Roll: 1\n",
      "pig!\n",
      "Turn total: 0\n",
      "Player 1 score: 23\n",
      "Player 2 score: 43\n",
      "It is player 1's turn\n",
      "Roll: 1\n",
      "pig!\n",
      "Turn total: 0\n",
      "Player 1 score: 23\n",
      "Player 2 score: 43\n",
      "It is player 2's turn\n",
      "Roll: 3\n",
      "Roll: 4\n",
      "Roll: 3\n",
      "Roll: 4\n",
      "Roll: 4\n",
      "Roll: 5\n",
      "Turn total: 23\n",
      "Player 1 score: 23\n",
      "Player 2 score: 66\n",
      "It is player 1's turn\n",
      "Roll: 2\n",
      "Roll: 5\n",
      "Roll: 2\n",
      "Roll: 2\n",
      "Roll: 2\n",
      "Roll: 1\n",
      "pig!\n",
      "Turn total: 0\n",
      "Player 1 score: 23\n",
      "Player 2 score: 66\n",
      "It is player 2's turn\n",
      "Roll: 2\n",
      "Roll: 3\n",
      "Roll: 2\n",
      "Roll: 2\n",
      "Roll: 5\n",
      "Roll: 5\n",
      "Roll: 3\n",
      "Turn total: 22\n",
      "Player 1 score: 23\n",
      "Player 2 score: 88\n",
      "It is player 1's turn\n",
      "Roll: 5\n",
      "Roll: 6\n",
      "Roll: 5\n",
      "Turn total: 16\n",
      "Player 1 score: 39\n",
      "Player 2 score: 88\n",
      "It is player 2's turn\n",
      "Roll: 2\n",
      "Roll: 4\n",
      "Roll: 4\n",
      "Roll: 6\n",
      "Turn total: 16\n",
      "Player 1 score: 39\n",
      "Player 2 score: 104\n",
      "Player 2 has won\n"
     ]
    }
   ],
   "source": [
    "import random as rd\n",
    "\n",
    "rd.seed(2)\n",
    "p1score = 0\n",
    "p2score = 0\n",
    "currentplayer = 1\n",
    "while p1score < 100 and p2score < 100:\n",
    "    turntotal = 0\n",
    "    roll = 0\n",
    "    print(\"Player 1 score:\", p1score)\n",
    "    print(\"Player 2 score:\", p2score)\n",
    "    print(f\"It is player {currentplayer}'s turn\")\n",
    "    while roll != 1 and turntotal < 20 and (turntotal + p1score) < 100 and (turntotal + p2score) < 100:\n",
    "        roll = rd.randint(1, 6)\n",
    "        print(\"Roll: \" + str(roll))\n",
    "        if roll == 1:\n",
    "            print(\"pig!\")\n",
    "            turntotal = 0\n",
    "        else:\n",
    "            turntotal += roll\n",
    "    print(\"Turn total:\", turntotal)\n",
    "    if currentplayer == 1:\n",
    "        p1score = p1score + turntotal\n",
    "       \n",
    "    else:\n",
    "        p2score = p2score + turntotal\n",
    "    currentplayer = 3 - currentplayer\n",
    "print(\"Player 1 score:\", p1score)\n",
    "print(\"Player 2 score:\", p2score)\n",
    "print(f\"Player {3 - currentplayer} has won\")"
   ]
  },
  {
   "cell_type": "markdown",
   "metadata": {},
   "source": [
    "### 8."
   ]
  },
  {
   "cell_type": "code",
   "execution_count": 10,
   "metadata": {},
   "outputs": [
    {
     "name": "stdout",
     "output_type": "stream",
     "text": [
      "Enter an integer: -5\n",
      "-5\n",
      "-4\n",
      "-3\n",
      "-2\n",
      "-1\n",
      "0\n",
      "1\n",
      "2\n"
     ]
    }
   ],
   "source": [
    "i = int(input(\"Enter an integer: \"))\n",
    "firsttime = True\n",
    "\n",
    "while firsttime or i < 3:\n",
    "    firsttime = False\n",
    "    print(i)\n",
    "    i += 1"
   ]
  },
  {
   "cell_type": "markdown",
   "metadata": {},
   "source": [
    "### 9."
   ]
  },
  {
   "cell_type": "code",
   "execution_count": 5,
   "metadata": {},
   "outputs": [
    {
     "name": "stdout",
     "output_type": "stream",
     "text": [
      "Enter an integer: 1564321\n",
      "1234651\n"
     ]
    }
   ],
   "source": [
    "i = int(input(\"Enter an integer: \"))\n",
    "b = 0\n",
    "\n",
    "while i != 0:\n",
    "    b = (b * 10) + (i % 10)\n",
    "    i = i // 10\n",
    "print(b)"
   ]
  },
  {
   "cell_type": "markdown",
   "metadata": {},
   "source": [
    "### 10."
   ]
  },
  {
   "cell_type": "code",
   "execution_count": null,
   "metadata": {},
   "outputs": [],
   "source": []
  }
 ],
 "metadata": {
  "kernelspec": {
   "display_name": "Python 3",
   "language": "python",
   "name": "python3"
  }
 },
 "nbformat": 4,
 "nbformat_minor": 4
}
