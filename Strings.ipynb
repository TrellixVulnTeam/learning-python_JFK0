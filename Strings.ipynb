{
 "cells": [
  {
   "cell_type": "markdown",
   "metadata": {},
   "source": [
    "# Strings"
   ]
  },
  {
   "cell_type": "markdown",
   "metadata": {},
   "source": [
    "### 1."
   ]
  },
  {
   "cell_type": "code",
   "execution_count": 3,
   "metadata": {},
   "outputs": [
    {
     "name": "stdout",
     "output_type": "stream",
     "text": [
      "1. Joey \n",
      "2. 2022 \n",
      "3. Honesdale \n",
      "4. I wanna\n"
     ]
    }
   ],
   "source": [
    "my_str = \"1. Joey \\n2. 2022 \\n3. Honesdale \\n4. I wanna\"\n",
    "print(my_str)"
   ]
  },
  {
   "cell_type": "markdown",
   "metadata": {},
   "source": [
    "### 2."
   ]
  },
  {
   "cell_type": "code",
   "execution_count": 9,
   "metadata": {},
   "outputs": [
    {
     "name": "stdout",
     "output_type": "stream",
     "text": [
      "This is how you print a double-quote (\"), a backslash (\\), and a lowercase o with stroke (ø).\n",
      "\n",
      "A tab and a newline are printed using a \"\"\"\t\"\"\" and \"\n",
      "\"\"\", respectively.\n"
     ]
    }
   ],
   "source": [
    "sentence = \"\"\"This is how you print a double-quote (\\\"), a backslash (\\\\), and a lowercase o with stroke (ø).\n",
    "\n",
    "A tab and a newline are printed using a \\\"\"\"\\t\"\\\"\" and \\\"\\n\"\\\"\", respectively.\"\"\"\n",
    "print(sentence)"
   ]
  },
  {
   "cell_type": "markdown",
   "metadata": {},
   "source": [
    "### 3."
   ]
  },
  {
   "cell_type": "code",
   "execution_count": 29,
   "metadata": {},
   "outputs": [
    {
     "name": "stdout",
     "output_type": "stream",
     "text": [
      "super-duper-duper-duper-duper-duper-duper-duper-duper-duper-duper-fun\n",
      "r\n",
      "r\n"
     ]
    }
   ],
   "source": [
    "a = \"super-\"\n",
    "b = \"duper-\"\n",
    "c = \"fun\"\n",
    "d = a+(b*10)+c\n",
    "print(d)\n",
    "print (d[34])\n",
    "print (d[-35])"
   ]
  },
  {
   "cell_type": "markdown",
   "metadata": {},
   "source": [
    "### 4."
   ]
  },
  {
   "cell_type": "code",
   "execution_count": 24,
   "metadata": {},
   "outputs": [
    {
     "name": "stdout",
     "output_type": "stream",
     "text": [
      "19\n",
      "17\n"
     ]
    }
   ],
   "source": [
    "yolo = \"yeetus \\nthat \\nfetus\"\n",
    "swag = \"yeetus that fetus\"\n",
    "print(len(yolo))\n",
    "print(len(swag))\n",
    "#it handles \"\\n\" weirdly"
   ]
  },
  {
   "cell_type": "markdown",
   "metadata": {},
   "source": [
    "### 5."
   ]
  },
  {
   "cell_type": "code",
   "execution_count": 48,
   "metadata": {},
   "outputs": [
    {
     "name": "stdout",
     "output_type": "stream",
     "text": [
      "bdfhjln\n",
      "hfd\n",
      "yvspmj\n",
      "xr\n"
     ]
    }
   ],
   "source": [
    "Tupac = \"abcdefghijklmnopqrstuvwxyz\"\n",
    "Biggie = Tupac [1:14:2]\n",
    "print(Biggie)\n",
    "JaRule = Tupac [7:2:-2]\n",
    "print(JaRule)\n",
    "SlimShady = Tupac [24:8:-3]\n",
    "print(SlimShady)\n",
    "AndrefromOutkast = Tupac [23:16:-6]\n",
    "print(AndrefromOutkast)"
   ]
  },
  {
   "cell_type": "markdown",
   "metadata": {},
   "source": [
    "### 6."
   ]
  },
  {
   "cell_type": "code",
   "execution_count": 70,
   "metadata": {},
   "outputs": [
    {
     "name": "stdout",
     "output_type": "stream",
     "text": [
      "Um i am a tree lizard.  a trizard\n",
      "                                                                                                                                                                                                                   um i am a tree lizard.  a trizard                                                                                                                                                                                                                    \n",
      "5\n",
      "True\n",
      "26\n",
      "15\n",
      "False\n",
      "UM I AM A TREE LIZARD.  A TRIZARD\n"
     ]
    }
   ],
   "source": [
    "treeko = \"um i am a tree lizard.  a trizard\"\n",
    "print(treeko.capitalize())\n",
    "print(treeko.center(456))\n",
    "print(treeko.count(\"a\"))\n",
    "print(treeko.endswith(\"trizard\"))\n",
    "print(treeko.find(\"trizard\"))\n",
    "print(treeko.index(\"lizard\"))\n",
    "print(treeko.isalnum())\n",
    "print(treeko.upper())"
   ]
  }
 ],
 "metadata": {
  "kernelspec": {
   "display_name": "Python 3",
   "language": "python",
   "name": "python3"
  },
  "language_info": {
   "codemirror_mode": {
    "name": "ipython",
    "version": 3
   },
   "file_extension": ".py",
   "mimetype": "text/x-python",
   "name": "python",
   "nbconvert_exporter": "python",
   "pygments_lexer": "ipython3",
   "version": "3.8.2"
  }
 },
 "nbformat": 4,
 "nbformat_minor": 4
}
